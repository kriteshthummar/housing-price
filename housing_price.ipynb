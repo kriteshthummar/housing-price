{
  "nbformat": 4,
  "nbformat_minor": 0,
  "metadata": {
    "colab": {
      "provenance": []
    },
    "kernelspec": {
      "name": "python3",
      "display_name": "Python 3"
    },
    "language_info": {
      "name": "python"
    }
  },
  "cells": [
    {
      "cell_type": "code",
      "source": [
        "#6th february 2023"
      ],
      "metadata": {
        "id": "sQGCEdbNZEJa"
      },
      "execution_count": 1,
      "outputs": []
    },
    {
      "cell_type": "code",
      "execution_count": 2,
      "metadata": {
        "id": "R_eQy6vRYpjy"
      },
      "outputs": [],
      "source": [
        "#major project 1\n",
        "#housing price predection in india's city"
      ]
    },
    {
      "cell_type": "code",
      "source": [
        "#import required library\n",
        "#import dataset\n",
        "import pandas as pd\n",
        "import matplotlib.pyplot as plt\n",
        "import seaborn as sns\n",
        "import numpy as np\n",
        "df = pd.read_csv('/content/housing data.csv')\n",
        "df.head()"
      ],
      "metadata": {
        "colab": {
          "base_uri": "https://localhost:8080/",
          "height": 612
        },
        "id": "O4mfGqkTZDZW",
        "outputId": "6b71d2b0-ec6f-4bd7-d460-1659d490acc9"
      },
      "execution_count": 3,
      "outputs": [
        {
          "output_type": "execute_result",
          "data": {
            "text/plain": [
              "                location  area     price price_currency  status  new/resale  \\\n",
              "0                Dhakoli  1300   2850000            INR     NaN           0   \n",
              "1                Dhakoli  1400   3600000            INR     NaN           0   \n",
              "2                Dhakoli  1350   3690000            INR     NaN           0   \n",
              "3  New chandigarh mohali  1200  10000000            INR     NaN           0   \n",
              "4          Sunny Enclave  1008   3090000            INR     NaN           1   \n",
              "\n",
              "   price_negotiable                                        description  \\\n",
              "0                 0  This spacious 2 bhk builder floor is available...   \n",
              "1                 0  It’s a 3 bhk builder floor situated in Dhakoli...   \n",
              "2                 0  It has an area of 1350 sqft with a carpet area...   \n",
              "3                 0  It has a salable area of 1200 sqft and is avai...   \n",
              "4                 0  This spacious 2 bhk builder floor is available...   \n",
              "\n",
              "   security_deposit     facing  ...  Staff Quarter  Multipurpose Room  \\\n",
              "0                 1        NaN  ...            NaN                NaN   \n",
              "1                 1        NaN  ...            NaN                NaN   \n",
              "2                 1  northeast  ...            NaN                NaN   \n",
              "3                 1  northeast  ...            NaN                NaN   \n",
              "4                 1       east  ...            NaN                NaN   \n",
              "\n",
              "   Car Parking  Hospital  School  Shopping Mall  Vaastu Compliant  Cafeteria  \\\n",
              "0          NaN       NaN     NaN            NaN               NaN        NaN   \n",
              "1          NaN       NaN     NaN            NaN               NaN        NaN   \n",
              "2          NaN       NaN     NaN            NaN               NaN        NaN   \n",
              "3          NaN       NaN     NaN            NaN               NaN        NaN   \n",
              "4          NaN       NaN     NaN            NaN               NaN        NaN   \n",
              "\n",
              "   Rain Water Harvesting  Golf Course  \n",
              "0                    NaN          NaN  \n",
              "1                    NaN          NaN  \n",
              "2                    NaN          NaN  \n",
              "3                    NaN          NaN  \n",
              "4                    NaN          NaN  \n",
              "\n",
              "[5 rows x 39 columns]"
            ],
            "text/html": [
              "\n",
              "  <div id=\"df-0d374747-76c1-4d96-9623-f907f0324df1\">\n",
              "    <div class=\"colab-df-container\">\n",
              "      <div>\n",
              "<style scoped>\n",
              "    .dataframe tbody tr th:only-of-type {\n",
              "        vertical-align: middle;\n",
              "    }\n",
              "\n",
              "    .dataframe tbody tr th {\n",
              "        vertical-align: top;\n",
              "    }\n",
              "\n",
              "    .dataframe thead th {\n",
              "        text-align: right;\n",
              "    }\n",
              "</style>\n",
              "<table border=\"1\" class=\"dataframe\">\n",
              "  <thead>\n",
              "    <tr style=\"text-align: right;\">\n",
              "      <th></th>\n",
              "      <th>location</th>\n",
              "      <th>area</th>\n",
              "      <th>price</th>\n",
              "      <th>price_currency</th>\n",
              "      <th>status</th>\n",
              "      <th>new/resale</th>\n",
              "      <th>price_negotiable</th>\n",
              "      <th>description</th>\n",
              "      <th>security_deposit</th>\n",
              "      <th>facing</th>\n",
              "      <th>...</th>\n",
              "      <th>Staff Quarter</th>\n",
              "      <th>Multipurpose Room</th>\n",
              "      <th>Car Parking</th>\n",
              "      <th>Hospital</th>\n",
              "      <th>School</th>\n",
              "      <th>Shopping Mall</th>\n",
              "      <th>Vaastu Compliant</th>\n",
              "      <th>Cafeteria</th>\n",
              "      <th>Rain Water Harvesting</th>\n",
              "      <th>Golf Course</th>\n",
              "    </tr>\n",
              "  </thead>\n",
              "  <tbody>\n",
              "    <tr>\n",
              "      <th>0</th>\n",
              "      <td>Dhakoli</td>\n",
              "      <td>1300</td>\n",
              "      <td>2850000</td>\n",
              "      <td>INR</td>\n",
              "      <td>NaN</td>\n",
              "      <td>0</td>\n",
              "      <td>0</td>\n",
              "      <td>This spacious 2 bhk builder floor is available...</td>\n",
              "      <td>1</td>\n",
              "      <td>NaN</td>\n",
              "      <td>...</td>\n",
              "      <td>NaN</td>\n",
              "      <td>NaN</td>\n",
              "      <td>NaN</td>\n",
              "      <td>NaN</td>\n",
              "      <td>NaN</td>\n",
              "      <td>NaN</td>\n",
              "      <td>NaN</td>\n",
              "      <td>NaN</td>\n",
              "      <td>NaN</td>\n",
              "      <td>NaN</td>\n",
              "    </tr>\n",
              "    <tr>\n",
              "      <th>1</th>\n",
              "      <td>Dhakoli</td>\n",
              "      <td>1400</td>\n",
              "      <td>3600000</td>\n",
              "      <td>INR</td>\n",
              "      <td>NaN</td>\n",
              "      <td>0</td>\n",
              "      <td>0</td>\n",
              "      <td>It’s a 3 bhk builder floor situated in Dhakoli...</td>\n",
              "      <td>1</td>\n",
              "      <td>NaN</td>\n",
              "      <td>...</td>\n",
              "      <td>NaN</td>\n",
              "      <td>NaN</td>\n",
              "      <td>NaN</td>\n",
              "      <td>NaN</td>\n",
              "      <td>NaN</td>\n",
              "      <td>NaN</td>\n",
              "      <td>NaN</td>\n",
              "      <td>NaN</td>\n",
              "      <td>NaN</td>\n",
              "      <td>NaN</td>\n",
              "    </tr>\n",
              "    <tr>\n",
              "      <th>2</th>\n",
              "      <td>Dhakoli</td>\n",
              "      <td>1350</td>\n",
              "      <td>3690000</td>\n",
              "      <td>INR</td>\n",
              "      <td>NaN</td>\n",
              "      <td>0</td>\n",
              "      <td>0</td>\n",
              "      <td>It has an area of 1350 sqft with a carpet area...</td>\n",
              "      <td>1</td>\n",
              "      <td>northeast</td>\n",
              "      <td>...</td>\n",
              "      <td>NaN</td>\n",
              "      <td>NaN</td>\n",
              "      <td>NaN</td>\n",
              "      <td>NaN</td>\n",
              "      <td>NaN</td>\n",
              "      <td>NaN</td>\n",
              "      <td>NaN</td>\n",
              "      <td>NaN</td>\n",
              "      <td>NaN</td>\n",
              "      <td>NaN</td>\n",
              "    </tr>\n",
              "    <tr>\n",
              "      <th>3</th>\n",
              "      <td>New chandigarh mohali</td>\n",
              "      <td>1200</td>\n",
              "      <td>10000000</td>\n",
              "      <td>INR</td>\n",
              "      <td>NaN</td>\n",
              "      <td>0</td>\n",
              "      <td>0</td>\n",
              "      <td>It has a salable area of 1200 sqft and is avai...</td>\n",
              "      <td>1</td>\n",
              "      <td>northeast</td>\n",
              "      <td>...</td>\n",
              "      <td>NaN</td>\n",
              "      <td>NaN</td>\n",
              "      <td>NaN</td>\n",
              "      <td>NaN</td>\n",
              "      <td>NaN</td>\n",
              "      <td>NaN</td>\n",
              "      <td>NaN</td>\n",
              "      <td>NaN</td>\n",
              "      <td>NaN</td>\n",
              "      <td>NaN</td>\n",
              "    </tr>\n",
              "    <tr>\n",
              "      <th>4</th>\n",
              "      <td>Sunny Enclave</td>\n",
              "      <td>1008</td>\n",
              "      <td>3090000</td>\n",
              "      <td>INR</td>\n",
              "      <td>NaN</td>\n",
              "      <td>1</td>\n",
              "      <td>0</td>\n",
              "      <td>This spacious 2 bhk builder floor is available...</td>\n",
              "      <td>1</td>\n",
              "      <td>east</td>\n",
              "      <td>...</td>\n",
              "      <td>NaN</td>\n",
              "      <td>NaN</td>\n",
              "      <td>NaN</td>\n",
              "      <td>NaN</td>\n",
              "      <td>NaN</td>\n",
              "      <td>NaN</td>\n",
              "      <td>NaN</td>\n",
              "      <td>NaN</td>\n",
              "      <td>NaN</td>\n",
              "      <td>NaN</td>\n",
              "    </tr>\n",
              "  </tbody>\n",
              "</table>\n",
              "<p>5 rows × 39 columns</p>\n",
              "</div>\n",
              "      <button class=\"colab-df-convert\" onclick=\"convertToInteractive('df-0d374747-76c1-4d96-9623-f907f0324df1')\"\n",
              "              title=\"Convert this dataframe to an interactive table.\"\n",
              "              style=\"display:none;\">\n",
              "        \n",
              "  <svg xmlns=\"http://www.w3.org/2000/svg\" height=\"24px\"viewBox=\"0 0 24 24\"\n",
              "       width=\"24px\">\n",
              "    <path d=\"M0 0h24v24H0V0z\" fill=\"none\"/>\n",
              "    <path d=\"M18.56 5.44l.94 2.06.94-2.06 2.06-.94-2.06-.94-.94-2.06-.94 2.06-2.06.94zm-11 1L8.5 8.5l.94-2.06 2.06-.94-2.06-.94L8.5 2.5l-.94 2.06-2.06.94zm10 10l.94 2.06.94-2.06 2.06-.94-2.06-.94-.94-2.06-.94 2.06-2.06.94z\"/><path d=\"M17.41 7.96l-1.37-1.37c-.4-.4-.92-.59-1.43-.59-.52 0-1.04.2-1.43.59L10.3 9.45l-7.72 7.72c-.78.78-.78 2.05 0 2.83L4 21.41c.39.39.9.59 1.41.59.51 0 1.02-.2 1.41-.59l7.78-7.78 2.81-2.81c.8-.78.8-2.07 0-2.86zM5.41 20L4 18.59l7.72-7.72 1.47 1.35L5.41 20z\"/>\n",
              "  </svg>\n",
              "      </button>\n",
              "      \n",
              "  <style>\n",
              "    .colab-df-container {\n",
              "      display:flex;\n",
              "      flex-wrap:wrap;\n",
              "      gap: 12px;\n",
              "    }\n",
              "\n",
              "    .colab-df-convert {\n",
              "      background-color: #E8F0FE;\n",
              "      border: none;\n",
              "      border-radius: 50%;\n",
              "      cursor: pointer;\n",
              "      display: none;\n",
              "      fill: #1967D2;\n",
              "      height: 32px;\n",
              "      padding: 0 0 0 0;\n",
              "      width: 32px;\n",
              "    }\n",
              "\n",
              "    .colab-df-convert:hover {\n",
              "      background-color: #E2EBFA;\n",
              "      box-shadow: 0px 1px 2px rgba(60, 64, 67, 0.3), 0px 1px 3px 1px rgba(60, 64, 67, 0.15);\n",
              "      fill: #174EA6;\n",
              "    }\n",
              "\n",
              "    [theme=dark] .colab-df-convert {\n",
              "      background-color: #3B4455;\n",
              "      fill: #D2E3FC;\n",
              "    }\n",
              "\n",
              "    [theme=dark] .colab-df-convert:hover {\n",
              "      background-color: #434B5C;\n",
              "      box-shadow: 0px 1px 3px 1px rgba(0, 0, 0, 0.15);\n",
              "      filter: drop-shadow(0px 1px 2px rgba(0, 0, 0, 0.3));\n",
              "      fill: #FFFFFF;\n",
              "    }\n",
              "  </style>\n",
              "\n",
              "      <script>\n",
              "        const buttonEl =\n",
              "          document.querySelector('#df-0d374747-76c1-4d96-9623-f907f0324df1 button.colab-df-convert');\n",
              "        buttonEl.style.display =\n",
              "          google.colab.kernel.accessAllowed ? 'block' : 'none';\n",
              "\n",
              "        async function convertToInteractive(key) {\n",
              "          const element = document.querySelector('#df-0d374747-76c1-4d96-9623-f907f0324df1');\n",
              "          const dataTable =\n",
              "            await google.colab.kernel.invokeFunction('convertToInteractive',\n",
              "                                                     [key], {});\n",
              "          if (!dataTable) return;\n",
              "\n",
              "          const docLinkHtml = 'Like what you see? Visit the ' +\n",
              "            '<a target=\"_blank\" href=https://colab.research.google.com/notebooks/data_table.ipynb>data table notebook</a>'\n",
              "            + ' to learn more about interactive tables.';\n",
              "          element.innerHTML = '';\n",
              "          dataTable['output_type'] = 'display_data';\n",
              "          await google.colab.output.renderOutput(dataTable, element);\n",
              "          const docLink = document.createElement('div');\n",
              "          docLink.innerHTML = docLinkHtml;\n",
              "          element.appendChild(docLink);\n",
              "        }\n",
              "      </script>\n",
              "    </div>\n",
              "  </div>\n",
              "  "
            ]
          },
          "metadata": {},
          "execution_count": 3
        }
      ]
    },
    {
      "cell_type": "code",
      "source": [
        "df['description'],df['new/resale']=df['new/resale'],df['description']\n",
        "df.rename(columns={'new/resale':'description','description':'new/resale'},inplace = True)\n"
      ],
      "metadata": {
        "id": "1Z9W15yhTN9n"
      },
      "execution_count": 4,
      "outputs": []
    },
    {
      "cell_type": "code",
      "source": [
        "#understanding a data"
      ],
      "metadata": {
        "id": "aMmocQPAZ8ca"
      },
      "execution_count": 5,
      "outputs": []
    },
    {
      "cell_type": "code",
      "source": [
        "type(df)"
      ],
      "metadata": {
        "colab": {
          "base_uri": "https://localhost:8080/"
        },
        "id": "cGy1-uecaZKh",
        "outputId": "41604f7f-74d0-4617-fcd0-11c62de314e5"
      },
      "execution_count": 6,
      "outputs": [
        {
          "output_type": "execute_result",
          "data": {
            "text/plain": [
              "pandas.core.frame.DataFrame"
            ]
          },
          "metadata": {},
          "execution_count": 6
        }
      ]
    },
    {
      "cell_type": "code",
      "source": [
        "df.info()  #information about a data"
      ],
      "metadata": {
        "id": "wuf1Uz0Factx"
      },
      "execution_count": null,
      "outputs": []
    },
    {
      "cell_type": "code",
      "source": [
        "df.shape #columns = 39 , row = 1056 "
      ],
      "metadata": {
        "colab": {
          "base_uri": "https://localhost:8080/"
        },
        "id": "ZBwWRjp7awNF",
        "outputId": "9b9bf4d3-703c-4586-e0e3-fbb2b638ed27"
      },
      "execution_count": 8,
      "outputs": [
        {
          "output_type": "execute_result",
          "data": {
            "text/plain": [
              "(1056, 39)"
            ]
          },
          "metadata": {},
          "execution_count": 8
        }
      ]
    },
    {
      "cell_type": "code",
      "source": [
        "df.size  #total element 41184"
      ],
      "metadata": {
        "colab": {
          "base_uri": "https://localhost:8080/"
        },
        "id": "1BUz9uUma2nL",
        "outputId": "af2fb47e-7e12-4ff1-a7eb-f2d60ad4d24a"
      },
      "execution_count": 9,
      "outputs": [
        {
          "output_type": "execute_result",
          "data": {
            "text/plain": [
              "41184"
            ]
          },
          "metadata": {},
          "execution_count": 9
        }
      ]
    },
    {
      "cell_type": "code",
      "source": [
        "df.nunique()\n"
      ],
      "metadata": {
        "id": "zgQWg5uya5rx"
      },
      "execution_count": null,
      "outputs": []
    },
    {
      "cell_type": "code",
      "source": [
        "#data cleaning\n",
        "df.drop(df.iloc[:,23:31],axis = 1,inplace = True)\n",
        "#df.drop(df.iloc[:,21:28],axis = 1,inplace = True)\n",
        "df.drop(['price_currency','security_deposit','status'],axis = 1, inplace = True)"
      ],
      "metadata": {
        "id": "5TY7H5csbkvv"
      },
      "execution_count": 11,
      "outputs": []
    },
    {
      "cell_type": "code",
      "source": [
        "df.drop(df.iloc[:,21:28],axis = 1,inplace = True)"
      ],
      "metadata": {
        "id": "tjId1yGg3L7C"
      },
      "execution_count": 12,
      "outputs": []
    },
    {
      "cell_type": "code",
      "source": [
        "df.head()"
      ],
      "metadata": {
        "id": "NiDKLnBiT0fJ",
        "colab": {
          "base_uri": "https://localhost:8080/",
          "height": 612
        },
        "outputId": "20aab1dd-134f-423f-edf1-960429e1b143"
      },
      "execution_count": 13,
      "outputs": [
        {
          "output_type": "execute_result",
          "data": {
            "text/plain": [
              "                location  area     price  \\\n",
              "0                Dhakoli  1300   2850000   \n",
              "1                Dhakoli  1400   3600000   \n",
              "2                Dhakoli  1350   3690000   \n",
              "3  New chandigarh mohali  1200  10000000   \n",
              "4          Sunny Enclave  1008   3090000   \n",
              "\n",
              "                                         description  price_negotiable  \\\n",
              "0  This spacious 2 bhk builder floor is available...                 0   \n",
              "1  It’s a 3 bhk builder floor situated in Dhakoli...                 0   \n",
              "2  It has an area of 1350 sqft with a carpet area...                 0   \n",
              "3  It has a salable area of 1200 sqft and is avai...                 0   \n",
              "4  This spacious 2 bhk builder floor is available...                 0   \n",
              "\n",
              "   new/resale     facing  furnished  age of property  Lift(s)  ...  \\\n",
              "0           0        NaN          0                0        0  ...   \n",
              "1           0        NaN          0                0        0  ...   \n",
              "2           0  northeast          0                0        0  ...   \n",
              "3           0  northeast          1                0        0  ...   \n",
              "4           1       east          0                0        0  ...   \n",
              "\n",
              "   24 X 7 Security  Children's play area  Club House  Gymnasium  \\\n",
              "0                0                     0           0          0   \n",
              "1                0                     0           0          0   \n",
              "2                0                     0           0          0   \n",
              "3                0                     0           0          0   \n",
              "4                0                     0           0          0   \n",
              "\n",
              "   Swimming Pool  Sports Facility  Jogging Track  Landscaped Gardens  \\\n",
              "0              0                0              0                   0   \n",
              "1              0                0              0                   0   \n",
              "2              0                0              0                   0   \n",
              "3              0                0              0                   0   \n",
              "4              0                0              0                   0   \n",
              "\n",
              "   locality_score  Car Parking  \n",
              "0             NaN          NaN  \n",
              "1             NaN          NaN  \n",
              "2             NaN          NaN  \n",
              "3             NaN          NaN  \n",
              "4             NaN          NaN  \n",
              "\n",
              "[5 rows x 21 columns]"
            ],
            "text/html": [
              "\n",
              "  <div id=\"df-710e3dc1-ee71-413f-b402-97f6dbc3d04a\">\n",
              "    <div class=\"colab-df-container\">\n",
              "      <div>\n",
              "<style scoped>\n",
              "    .dataframe tbody tr th:only-of-type {\n",
              "        vertical-align: middle;\n",
              "    }\n",
              "\n",
              "    .dataframe tbody tr th {\n",
              "        vertical-align: top;\n",
              "    }\n",
              "\n",
              "    .dataframe thead th {\n",
              "        text-align: right;\n",
              "    }\n",
              "</style>\n",
              "<table border=\"1\" class=\"dataframe\">\n",
              "  <thead>\n",
              "    <tr style=\"text-align: right;\">\n",
              "      <th></th>\n",
              "      <th>location</th>\n",
              "      <th>area</th>\n",
              "      <th>price</th>\n",
              "      <th>description</th>\n",
              "      <th>price_negotiable</th>\n",
              "      <th>new/resale</th>\n",
              "      <th>facing</th>\n",
              "      <th>furnished</th>\n",
              "      <th>age of property</th>\n",
              "      <th>Lift(s)</th>\n",
              "      <th>...</th>\n",
              "      <th>24 X 7 Security</th>\n",
              "      <th>Children's play area</th>\n",
              "      <th>Club House</th>\n",
              "      <th>Gymnasium</th>\n",
              "      <th>Swimming Pool</th>\n",
              "      <th>Sports Facility</th>\n",
              "      <th>Jogging Track</th>\n",
              "      <th>Landscaped Gardens</th>\n",
              "      <th>locality_score</th>\n",
              "      <th>Car Parking</th>\n",
              "    </tr>\n",
              "  </thead>\n",
              "  <tbody>\n",
              "    <tr>\n",
              "      <th>0</th>\n",
              "      <td>Dhakoli</td>\n",
              "      <td>1300</td>\n",
              "      <td>2850000</td>\n",
              "      <td>This spacious 2 bhk builder floor is available...</td>\n",
              "      <td>0</td>\n",
              "      <td>0</td>\n",
              "      <td>NaN</td>\n",
              "      <td>0</td>\n",
              "      <td>0</td>\n",
              "      <td>0</td>\n",
              "      <td>...</td>\n",
              "      <td>0</td>\n",
              "      <td>0</td>\n",
              "      <td>0</td>\n",
              "      <td>0</td>\n",
              "      <td>0</td>\n",
              "      <td>0</td>\n",
              "      <td>0</td>\n",
              "      <td>0</td>\n",
              "      <td>NaN</td>\n",
              "      <td>NaN</td>\n",
              "    </tr>\n",
              "    <tr>\n",
              "      <th>1</th>\n",
              "      <td>Dhakoli</td>\n",
              "      <td>1400</td>\n",
              "      <td>3600000</td>\n",
              "      <td>It’s a 3 bhk builder floor situated in Dhakoli...</td>\n",
              "      <td>0</td>\n",
              "      <td>0</td>\n",
              "      <td>NaN</td>\n",
              "      <td>0</td>\n",
              "      <td>0</td>\n",
              "      <td>0</td>\n",
              "      <td>...</td>\n",
              "      <td>0</td>\n",
              "      <td>0</td>\n",
              "      <td>0</td>\n",
              "      <td>0</td>\n",
              "      <td>0</td>\n",
              "      <td>0</td>\n",
              "      <td>0</td>\n",
              "      <td>0</td>\n",
              "      <td>NaN</td>\n",
              "      <td>NaN</td>\n",
              "    </tr>\n",
              "    <tr>\n",
              "      <th>2</th>\n",
              "      <td>Dhakoli</td>\n",
              "      <td>1350</td>\n",
              "      <td>3690000</td>\n",
              "      <td>It has an area of 1350 sqft with a carpet area...</td>\n",
              "      <td>0</td>\n",
              "      <td>0</td>\n",
              "      <td>northeast</td>\n",
              "      <td>0</td>\n",
              "      <td>0</td>\n",
              "      <td>0</td>\n",
              "      <td>...</td>\n",
              "      <td>0</td>\n",
              "      <td>0</td>\n",
              "      <td>0</td>\n",
              "      <td>0</td>\n",
              "      <td>0</td>\n",
              "      <td>0</td>\n",
              "      <td>0</td>\n",
              "      <td>0</td>\n",
              "      <td>NaN</td>\n",
              "      <td>NaN</td>\n",
              "    </tr>\n",
              "    <tr>\n",
              "      <th>3</th>\n",
              "      <td>New chandigarh mohali</td>\n",
              "      <td>1200</td>\n",
              "      <td>10000000</td>\n",
              "      <td>It has a salable area of 1200 sqft and is avai...</td>\n",
              "      <td>0</td>\n",
              "      <td>0</td>\n",
              "      <td>northeast</td>\n",
              "      <td>1</td>\n",
              "      <td>0</td>\n",
              "      <td>0</td>\n",
              "      <td>...</td>\n",
              "      <td>0</td>\n",
              "      <td>0</td>\n",
              "      <td>0</td>\n",
              "      <td>0</td>\n",
              "      <td>0</td>\n",
              "      <td>0</td>\n",
              "      <td>0</td>\n",
              "      <td>0</td>\n",
              "      <td>NaN</td>\n",
              "      <td>NaN</td>\n",
              "    </tr>\n",
              "    <tr>\n",
              "      <th>4</th>\n",
              "      <td>Sunny Enclave</td>\n",
              "      <td>1008</td>\n",
              "      <td>3090000</td>\n",
              "      <td>This spacious 2 bhk builder floor is available...</td>\n",
              "      <td>0</td>\n",
              "      <td>1</td>\n",
              "      <td>east</td>\n",
              "      <td>0</td>\n",
              "      <td>0</td>\n",
              "      <td>0</td>\n",
              "      <td>...</td>\n",
              "      <td>0</td>\n",
              "      <td>0</td>\n",
              "      <td>0</td>\n",
              "      <td>0</td>\n",
              "      <td>0</td>\n",
              "      <td>0</td>\n",
              "      <td>0</td>\n",
              "      <td>0</td>\n",
              "      <td>NaN</td>\n",
              "      <td>NaN</td>\n",
              "    </tr>\n",
              "  </tbody>\n",
              "</table>\n",
              "<p>5 rows × 21 columns</p>\n",
              "</div>\n",
              "      <button class=\"colab-df-convert\" onclick=\"convertToInteractive('df-710e3dc1-ee71-413f-b402-97f6dbc3d04a')\"\n",
              "              title=\"Convert this dataframe to an interactive table.\"\n",
              "              style=\"display:none;\">\n",
              "        \n",
              "  <svg xmlns=\"http://www.w3.org/2000/svg\" height=\"24px\"viewBox=\"0 0 24 24\"\n",
              "       width=\"24px\">\n",
              "    <path d=\"M0 0h24v24H0V0z\" fill=\"none\"/>\n",
              "    <path d=\"M18.56 5.44l.94 2.06.94-2.06 2.06-.94-2.06-.94-.94-2.06-.94 2.06-2.06.94zm-11 1L8.5 8.5l.94-2.06 2.06-.94-2.06-.94L8.5 2.5l-.94 2.06-2.06.94zm10 10l.94 2.06.94-2.06 2.06-.94-2.06-.94-.94-2.06-.94 2.06-2.06.94z\"/><path d=\"M17.41 7.96l-1.37-1.37c-.4-.4-.92-.59-1.43-.59-.52 0-1.04.2-1.43.59L10.3 9.45l-7.72 7.72c-.78.78-.78 2.05 0 2.83L4 21.41c.39.39.9.59 1.41.59.51 0 1.02-.2 1.41-.59l7.78-7.78 2.81-2.81c.8-.78.8-2.07 0-2.86zM5.41 20L4 18.59l7.72-7.72 1.47 1.35L5.41 20z\"/>\n",
              "  </svg>\n",
              "      </button>\n",
              "      \n",
              "  <style>\n",
              "    .colab-df-container {\n",
              "      display:flex;\n",
              "      flex-wrap:wrap;\n",
              "      gap: 12px;\n",
              "    }\n",
              "\n",
              "    .colab-df-convert {\n",
              "      background-color: #E8F0FE;\n",
              "      border: none;\n",
              "      border-radius: 50%;\n",
              "      cursor: pointer;\n",
              "      display: none;\n",
              "      fill: #1967D2;\n",
              "      height: 32px;\n",
              "      padding: 0 0 0 0;\n",
              "      width: 32px;\n",
              "    }\n",
              "\n",
              "    .colab-df-convert:hover {\n",
              "      background-color: #E2EBFA;\n",
              "      box-shadow: 0px 1px 2px rgba(60, 64, 67, 0.3), 0px 1px 3px 1px rgba(60, 64, 67, 0.15);\n",
              "      fill: #174EA6;\n",
              "    }\n",
              "\n",
              "    [theme=dark] .colab-df-convert {\n",
              "      background-color: #3B4455;\n",
              "      fill: #D2E3FC;\n",
              "    }\n",
              "\n",
              "    [theme=dark] .colab-df-convert:hover {\n",
              "      background-color: #434B5C;\n",
              "      box-shadow: 0px 1px 3px 1px rgba(0, 0, 0, 0.15);\n",
              "      filter: drop-shadow(0px 1px 2px rgba(0, 0, 0, 0.3));\n",
              "      fill: #FFFFFF;\n",
              "    }\n",
              "  </style>\n",
              "\n",
              "      <script>\n",
              "        const buttonEl =\n",
              "          document.querySelector('#df-710e3dc1-ee71-413f-b402-97f6dbc3d04a button.colab-df-convert');\n",
              "        buttonEl.style.display =\n",
              "          google.colab.kernel.accessAllowed ? 'block' : 'none';\n",
              "\n",
              "        async function convertToInteractive(key) {\n",
              "          const element = document.querySelector('#df-710e3dc1-ee71-413f-b402-97f6dbc3d04a');\n",
              "          const dataTable =\n",
              "            await google.colab.kernel.invokeFunction('convertToInteractive',\n",
              "                                                     [key], {});\n",
              "          if (!dataTable) return;\n",
              "\n",
              "          const docLinkHtml = 'Like what you see? Visit the ' +\n",
              "            '<a target=\"_blank\" href=https://colab.research.google.com/notebooks/data_table.ipynb>data table notebook</a>'\n",
              "            + ' to learn more about interactive tables.';\n",
              "          element.innerHTML = '';\n",
              "          dataTable['output_type'] = 'display_data';\n",
              "          await google.colab.output.renderOutput(dataTable, element);\n",
              "          const docLink = document.createElement('div');\n",
              "          docLink.innerHTML = docLinkHtml;\n",
              "          element.appendChild(docLink);\n",
              "        }\n",
              "      </script>\n",
              "    </div>\n",
              "  </div>\n",
              "  "
            ]
          },
          "metadata": {},
          "execution_count": 13
        }
      ]
    },
    {
      "cell_type": "code",
      "source": [
        "#COLLECT DESCRIPIVE STATISTICS\n",
        "df.describe()"
      ],
      "metadata": {
        "colab": {
          "base_uri": "https://localhost:8080/",
          "height": 381
        },
        "id": "neWOEsGWtHW2",
        "outputId": "34886c05-7687-4c0a-8d1b-a034ede29333"
      },
      "execution_count": 14,
      "outputs": [
        {
          "output_type": "execute_result",
          "data": {
            "text/plain": [
              "              area         price  price_negotiable   new/resale    furnished  \\\n",
              "count  1056.000000  1.056000e+03       1056.000000  1056.000000  1056.000000   \n",
              "mean   1320.814394  4.952882e+06          0.692235     0.889205     0.201705   \n",
              "std     621.300997  5.834945e+06          0.461788     0.314027     0.401463   \n",
              "min     460.000000  1.290000e+06          0.000000     0.000000     0.000000   \n",
              "25%     930.000000  2.580000e+06          0.000000     1.000000     0.000000   \n",
              "50%    1200.000000  3.590000e+06          1.000000     1.000000     0.000000   \n",
              "75%    1620.000000  6.000000e+06          1.000000     1.000000     0.000000   \n",
              "max    9000.000000  1.000000e+08          1.000000     1.000000     1.000000   \n",
              "\n",
              "       age of property      Lift(s)  Full Power Backup  24 X 7 Security  \\\n",
              "count      1056.000000  1056.000000        1056.000000      1056.000000   \n",
              "mean          3.760417     0.332386           0.523674         0.574811   \n",
              "std          18.838812     0.471292           0.499676         0.494606   \n",
              "min           0.000000     0.000000           0.000000         0.000000   \n",
              "25%           0.000000     0.000000           0.000000         0.000000   \n",
              "50%           0.000000     0.000000           1.000000         1.000000   \n",
              "75%           1.000000     1.000000           1.000000         1.000000   \n",
              "max         122.000000     1.000000           1.000000         1.000000   \n",
              "\n",
              "       Children's play area   Club House    Gymnasium  Swimming Pool  \\\n",
              "count           1056.000000  1056.000000  1056.000000    1056.000000   \n",
              "mean               0.444129     0.317235     0.404356       0.291667   \n",
              "std                0.497104     0.465620     0.491000       0.454745   \n",
              "min                0.000000     0.000000     0.000000       0.000000   \n",
              "25%                0.000000     0.000000     0.000000       0.000000   \n",
              "50%                0.000000     0.000000     0.000000       0.000000   \n",
              "75%                1.000000     1.000000     1.000000       1.000000   \n",
              "max                1.000000     1.000000     1.000000       1.000000   \n",
              "\n",
              "       Sports Facility  Jogging Track  Landscaped Gardens  locality_score  \\\n",
              "count      1056.000000    1056.000000         1056.000000       39.000000   \n",
              "mean          0.307765       0.344697            0.226326        7.138462   \n",
              "std           0.461788       0.475495            0.418651        0.240192   \n",
              "min           0.000000       0.000000            0.000000        7.100000   \n",
              "25%           0.000000       0.000000            0.000000        7.100000   \n",
              "50%           0.000000       0.000000            0.000000        7.100000   \n",
              "75%           1.000000       1.000000            0.000000        7.100000   \n",
              "max           1.000000       1.000000            1.000000        8.600000   \n",
              "\n",
              "       Car Parking  \n",
              "count        624.0  \n",
              "mean           1.0  \n",
              "std            0.0  \n",
              "min            1.0  \n",
              "25%            1.0  \n",
              "50%            1.0  \n",
              "75%            1.0  \n",
              "max            1.0  "
            ],
            "text/html": [
              "\n",
              "  <div id=\"df-3cd0b35f-ecf0-4c8d-8070-f78a659db93b\">\n",
              "    <div class=\"colab-df-container\">\n",
              "      <div>\n",
              "<style scoped>\n",
              "    .dataframe tbody tr th:only-of-type {\n",
              "        vertical-align: middle;\n",
              "    }\n",
              "\n",
              "    .dataframe tbody tr th {\n",
              "        vertical-align: top;\n",
              "    }\n",
              "\n",
              "    .dataframe thead th {\n",
              "        text-align: right;\n",
              "    }\n",
              "</style>\n",
              "<table border=\"1\" class=\"dataframe\">\n",
              "  <thead>\n",
              "    <tr style=\"text-align: right;\">\n",
              "      <th></th>\n",
              "      <th>area</th>\n",
              "      <th>price</th>\n",
              "      <th>price_negotiable</th>\n",
              "      <th>new/resale</th>\n",
              "      <th>furnished</th>\n",
              "      <th>age of property</th>\n",
              "      <th>Lift(s)</th>\n",
              "      <th>Full Power Backup</th>\n",
              "      <th>24 X 7 Security</th>\n",
              "      <th>Children's play area</th>\n",
              "      <th>Club House</th>\n",
              "      <th>Gymnasium</th>\n",
              "      <th>Swimming Pool</th>\n",
              "      <th>Sports Facility</th>\n",
              "      <th>Jogging Track</th>\n",
              "      <th>Landscaped Gardens</th>\n",
              "      <th>locality_score</th>\n",
              "      <th>Car Parking</th>\n",
              "    </tr>\n",
              "  </thead>\n",
              "  <tbody>\n",
              "    <tr>\n",
              "      <th>count</th>\n",
              "      <td>1056.000000</td>\n",
              "      <td>1.056000e+03</td>\n",
              "      <td>1056.000000</td>\n",
              "      <td>1056.000000</td>\n",
              "      <td>1056.000000</td>\n",
              "      <td>1056.000000</td>\n",
              "      <td>1056.000000</td>\n",
              "      <td>1056.000000</td>\n",
              "      <td>1056.000000</td>\n",
              "      <td>1056.000000</td>\n",
              "      <td>1056.000000</td>\n",
              "      <td>1056.000000</td>\n",
              "      <td>1056.000000</td>\n",
              "      <td>1056.000000</td>\n",
              "      <td>1056.000000</td>\n",
              "      <td>1056.000000</td>\n",
              "      <td>39.000000</td>\n",
              "      <td>624.0</td>\n",
              "    </tr>\n",
              "    <tr>\n",
              "      <th>mean</th>\n",
              "      <td>1320.814394</td>\n",
              "      <td>4.952882e+06</td>\n",
              "      <td>0.692235</td>\n",
              "      <td>0.889205</td>\n",
              "      <td>0.201705</td>\n",
              "      <td>3.760417</td>\n",
              "      <td>0.332386</td>\n",
              "      <td>0.523674</td>\n",
              "      <td>0.574811</td>\n",
              "      <td>0.444129</td>\n",
              "      <td>0.317235</td>\n",
              "      <td>0.404356</td>\n",
              "      <td>0.291667</td>\n",
              "      <td>0.307765</td>\n",
              "      <td>0.344697</td>\n",
              "      <td>0.226326</td>\n",
              "      <td>7.138462</td>\n",
              "      <td>1.0</td>\n",
              "    </tr>\n",
              "    <tr>\n",
              "      <th>std</th>\n",
              "      <td>621.300997</td>\n",
              "      <td>5.834945e+06</td>\n",
              "      <td>0.461788</td>\n",
              "      <td>0.314027</td>\n",
              "      <td>0.401463</td>\n",
              "      <td>18.838812</td>\n",
              "      <td>0.471292</td>\n",
              "      <td>0.499676</td>\n",
              "      <td>0.494606</td>\n",
              "      <td>0.497104</td>\n",
              "      <td>0.465620</td>\n",
              "      <td>0.491000</td>\n",
              "      <td>0.454745</td>\n",
              "      <td>0.461788</td>\n",
              "      <td>0.475495</td>\n",
              "      <td>0.418651</td>\n",
              "      <td>0.240192</td>\n",
              "      <td>0.0</td>\n",
              "    </tr>\n",
              "    <tr>\n",
              "      <th>min</th>\n",
              "      <td>460.000000</td>\n",
              "      <td>1.290000e+06</td>\n",
              "      <td>0.000000</td>\n",
              "      <td>0.000000</td>\n",
              "      <td>0.000000</td>\n",
              "      <td>0.000000</td>\n",
              "      <td>0.000000</td>\n",
              "      <td>0.000000</td>\n",
              "      <td>0.000000</td>\n",
              "      <td>0.000000</td>\n",
              "      <td>0.000000</td>\n",
              "      <td>0.000000</td>\n",
              "      <td>0.000000</td>\n",
              "      <td>0.000000</td>\n",
              "      <td>0.000000</td>\n",
              "      <td>0.000000</td>\n",
              "      <td>7.100000</td>\n",
              "      <td>1.0</td>\n",
              "    </tr>\n",
              "    <tr>\n",
              "      <th>25%</th>\n",
              "      <td>930.000000</td>\n",
              "      <td>2.580000e+06</td>\n",
              "      <td>0.000000</td>\n",
              "      <td>1.000000</td>\n",
              "      <td>0.000000</td>\n",
              "      <td>0.000000</td>\n",
              "      <td>0.000000</td>\n",
              "      <td>0.000000</td>\n",
              "      <td>0.000000</td>\n",
              "      <td>0.000000</td>\n",
              "      <td>0.000000</td>\n",
              "      <td>0.000000</td>\n",
              "      <td>0.000000</td>\n",
              "      <td>0.000000</td>\n",
              "      <td>0.000000</td>\n",
              "      <td>0.000000</td>\n",
              "      <td>7.100000</td>\n",
              "      <td>1.0</td>\n",
              "    </tr>\n",
              "    <tr>\n",
              "      <th>50%</th>\n",
              "      <td>1200.000000</td>\n",
              "      <td>3.590000e+06</td>\n",
              "      <td>1.000000</td>\n",
              "      <td>1.000000</td>\n",
              "      <td>0.000000</td>\n",
              "      <td>0.000000</td>\n",
              "      <td>0.000000</td>\n",
              "      <td>1.000000</td>\n",
              "      <td>1.000000</td>\n",
              "      <td>0.000000</td>\n",
              "      <td>0.000000</td>\n",
              "      <td>0.000000</td>\n",
              "      <td>0.000000</td>\n",
              "      <td>0.000000</td>\n",
              "      <td>0.000000</td>\n",
              "      <td>0.000000</td>\n",
              "      <td>7.100000</td>\n",
              "      <td>1.0</td>\n",
              "    </tr>\n",
              "    <tr>\n",
              "      <th>75%</th>\n",
              "      <td>1620.000000</td>\n",
              "      <td>6.000000e+06</td>\n",
              "      <td>1.000000</td>\n",
              "      <td>1.000000</td>\n",
              "      <td>0.000000</td>\n",
              "      <td>1.000000</td>\n",
              "      <td>1.000000</td>\n",
              "      <td>1.000000</td>\n",
              "      <td>1.000000</td>\n",
              "      <td>1.000000</td>\n",
              "      <td>1.000000</td>\n",
              "      <td>1.000000</td>\n",
              "      <td>1.000000</td>\n",
              "      <td>1.000000</td>\n",
              "      <td>1.000000</td>\n",
              "      <td>0.000000</td>\n",
              "      <td>7.100000</td>\n",
              "      <td>1.0</td>\n",
              "    </tr>\n",
              "    <tr>\n",
              "      <th>max</th>\n",
              "      <td>9000.000000</td>\n",
              "      <td>1.000000e+08</td>\n",
              "      <td>1.000000</td>\n",
              "      <td>1.000000</td>\n",
              "      <td>1.000000</td>\n",
              "      <td>122.000000</td>\n",
              "      <td>1.000000</td>\n",
              "      <td>1.000000</td>\n",
              "      <td>1.000000</td>\n",
              "      <td>1.000000</td>\n",
              "      <td>1.000000</td>\n",
              "      <td>1.000000</td>\n",
              "      <td>1.000000</td>\n",
              "      <td>1.000000</td>\n",
              "      <td>1.000000</td>\n",
              "      <td>1.000000</td>\n",
              "      <td>8.600000</td>\n",
              "      <td>1.0</td>\n",
              "    </tr>\n",
              "  </tbody>\n",
              "</table>\n",
              "</div>\n",
              "      <button class=\"colab-df-convert\" onclick=\"convertToInteractive('df-3cd0b35f-ecf0-4c8d-8070-f78a659db93b')\"\n",
              "              title=\"Convert this dataframe to an interactive table.\"\n",
              "              style=\"display:none;\">\n",
              "        \n",
              "  <svg xmlns=\"http://www.w3.org/2000/svg\" height=\"24px\"viewBox=\"0 0 24 24\"\n",
              "       width=\"24px\">\n",
              "    <path d=\"M0 0h24v24H0V0z\" fill=\"none\"/>\n",
              "    <path d=\"M18.56 5.44l.94 2.06.94-2.06 2.06-.94-2.06-.94-.94-2.06-.94 2.06-2.06.94zm-11 1L8.5 8.5l.94-2.06 2.06-.94-2.06-.94L8.5 2.5l-.94 2.06-2.06.94zm10 10l.94 2.06.94-2.06 2.06-.94-2.06-.94-.94-2.06-.94 2.06-2.06.94z\"/><path d=\"M17.41 7.96l-1.37-1.37c-.4-.4-.92-.59-1.43-.59-.52 0-1.04.2-1.43.59L10.3 9.45l-7.72 7.72c-.78.78-.78 2.05 0 2.83L4 21.41c.39.39.9.59 1.41.59.51 0 1.02-.2 1.41-.59l7.78-7.78 2.81-2.81c.8-.78.8-2.07 0-2.86zM5.41 20L4 18.59l7.72-7.72 1.47 1.35L5.41 20z\"/>\n",
              "  </svg>\n",
              "      </button>\n",
              "      \n",
              "  <style>\n",
              "    .colab-df-container {\n",
              "      display:flex;\n",
              "      flex-wrap:wrap;\n",
              "      gap: 12px;\n",
              "    }\n",
              "\n",
              "    .colab-df-convert {\n",
              "      background-color: #E8F0FE;\n",
              "      border: none;\n",
              "      border-radius: 50%;\n",
              "      cursor: pointer;\n",
              "      display: none;\n",
              "      fill: #1967D2;\n",
              "      height: 32px;\n",
              "      padding: 0 0 0 0;\n",
              "      width: 32px;\n",
              "    }\n",
              "\n",
              "    .colab-df-convert:hover {\n",
              "      background-color: #E2EBFA;\n",
              "      box-shadow: 0px 1px 2px rgba(60, 64, 67, 0.3), 0px 1px 3px 1px rgba(60, 64, 67, 0.15);\n",
              "      fill: #174EA6;\n",
              "    }\n",
              "\n",
              "    [theme=dark] .colab-df-convert {\n",
              "      background-color: #3B4455;\n",
              "      fill: #D2E3FC;\n",
              "    }\n",
              "\n",
              "    [theme=dark] .colab-df-convert:hover {\n",
              "      background-color: #434B5C;\n",
              "      box-shadow: 0px 1px 3px 1px rgba(0, 0, 0, 0.15);\n",
              "      filter: drop-shadow(0px 1px 2px rgba(0, 0, 0, 0.3));\n",
              "      fill: #FFFFFF;\n",
              "    }\n",
              "  </style>\n",
              "\n",
              "      <script>\n",
              "        const buttonEl =\n",
              "          document.querySelector('#df-3cd0b35f-ecf0-4c8d-8070-f78a659db93b button.colab-df-convert');\n",
              "        buttonEl.style.display =\n",
              "          google.colab.kernel.accessAllowed ? 'block' : 'none';\n",
              "\n",
              "        async function convertToInteractive(key) {\n",
              "          const element = document.querySelector('#df-3cd0b35f-ecf0-4c8d-8070-f78a659db93b');\n",
              "          const dataTable =\n",
              "            await google.colab.kernel.invokeFunction('convertToInteractive',\n",
              "                                                     [key], {});\n",
              "          if (!dataTable) return;\n",
              "\n",
              "          const docLinkHtml = 'Like what you see? Visit the ' +\n",
              "            '<a target=\"_blank\" href=https://colab.research.google.com/notebooks/data_table.ipynb>data table notebook</a>'\n",
              "            + ' to learn more about interactive tables.';\n",
              "          element.innerHTML = '';\n",
              "          dataTable['output_type'] = 'display_data';\n",
              "          await google.colab.output.renderOutput(dataTable, element);\n",
              "          const docLink = document.createElement('div');\n",
              "          docLink.innerHTML = docLinkHtml;\n",
              "          element.appendChild(docLink);\n",
              "        }\n",
              "      </script>\n",
              "    </div>\n",
              "  </div>\n",
              "  "
            ]
          },
          "metadata": {},
          "execution_count": 14
        }
      ]
    },
    {
      "cell_type": "code",
      "source": [
        "df.nunique()"
      ],
      "metadata": {
        "colab": {
          "base_uri": "https://localhost:8080/"
        },
        "id": "PzUXj6NGQ0Nj",
        "outputId": "1ffc5704-5731-481d-d40f-cebf46417f4a"
      },
      "execution_count": 15,
      "outputs": [
        {
          "output_type": "execute_result",
          "data": {
            "text/plain": [
              "location                 96\n",
              "area                    204\n",
              "price                   327\n",
              "description             884\n",
              "price_negotiable          2\n",
              "new/resale                2\n",
              "facing                    8\n",
              "furnished                 2\n",
              "age of property          12\n",
              "Lift(s)                   2\n",
              "Full Power Backup         2\n",
              "24 X 7 Security           2\n",
              "Children's play area      2\n",
              "Club House                2\n",
              "Gymnasium                 2\n",
              "Swimming Pool             2\n",
              "Sports Facility           2\n",
              "Jogging Track             2\n",
              "Landscaped Gardens        2\n",
              "locality_score            2\n",
              "Car Parking               1\n",
              "dtype: int64"
            ]
          },
          "metadata": {},
          "execution_count": 15
        }
      ]
    },
    {
      "cell_type": "code",
      "source": [
        "#FIND THE MEAN OR MAX OF AREA OF HOUSING\n",
        "\n",
        "Housing_Area_Mean = df['area'].mean()\n",
        "print('Housing area mean value:',Housing_Area_Mean)\n",
        "\n",
        "print('\\n')\n",
        "\n",
        "Housing_Area_Max = df['area'].max()\n",
        "print('Housing area max value:',Housing_Area_Max)\n",
        "\n",
        "\n",
        "print('\\n')\n",
        "\n",
        "#FIND THE MEAN OR PRICE OF HOUSING\n",
        "\n",
        "Housing_Price_Mean = df['price'].mean()\n",
        "print('Housing price mean value:',Housing_Price_Mean)\n",
        "\n",
        "print('\\n')\n",
        "\n",
        "Housing_Price_Max = df['price'].max()\n",
        "print('Housing price max value:',Housing_Price_Max)\n"
      ],
      "metadata": {
        "colab": {
          "base_uri": "https://localhost:8080/"
        },
        "id": "ptv9KkI2ucx5",
        "outputId": "36c82313-84b4-4d9d-8e34-2699701fd6d2"
      },
      "execution_count": 16,
      "outputs": [
        {
          "output_type": "stream",
          "name": "stdout",
          "text": [
            "Housing area mean value: 1320.814393939394\n",
            "\n",
            "\n",
            "Housing area max value: 9000\n",
            "\n",
            "\n",
            "Housing price mean value: 4952881.860795454\n",
            "\n",
            "\n",
            "Housing price max value: 100000000\n"
          ]
        }
      ]
    },
    {
      "cell_type": "code",
      "source": [
        "#EDA - explerotery data analysis\n",
        "#analysis of area and price of housing\n"
      ],
      "metadata": {
        "id": "zOHlEl53wgSm"
      },
      "execution_count": 17,
      "outputs": []
    },
    {
      "cell_type": "code",
      "source": [
        "plt.figure(figsize=(15,5))\n",
        "plt.subplot(1,2,1)\n",
        "sns.countplot(y='facing', data = df)\n",
        "plt.subplot(1,2,2)\n",
        "sns.countplot(y='age of property',data = df)"
      ],
      "metadata": {
        "colab": {
          "base_uri": "https://localhost:8080/",
          "height": 351
        },
        "id": "tSZJpwLVuf0k",
        "outputId": "0c5cee3a-03ca-47f2-e6e9-098c55778bcb"
      },
      "execution_count": 18,
      "outputs": [
        {
          "output_type": "execute_result",
          "data": {
            "text/plain": [
              "<AxesSubplot:xlabel='count', ylabel='age of property'>"
            ]
          },
          "metadata": {},
          "execution_count": 18
        },
        {
          "output_type": "display_data",
          "data": {
            "text/plain": [
              "<Figure size 1080x360 with 2 Axes>"
            ],
            "image/png": "[encoded data removed]"
          },
          "metadata": {
            "needs_background": "light"
          }
        }
      ]
    },
    {
      "cell_type": "code",
      "source": [
        "plt.figure(figsize=(20,15))\n",
        "for i in range(4,len(df.columns)-1):\n",
        "  plt.subplot(4,4,i-3)\n",
        "  sns.countplot(x=df.columns[i],data = df)"
      ],
      "metadata": {
        "colab": {
          "base_uri": "https://localhost:8080/",
          "height": 836
        },
        "id": "xDVg_NzBzO-G",
        "outputId": "6bfae0bd-1653-45c2-e740-7f3f03f30938"
      },
      "execution_count": 19,
      "outputs": [
        {
          "output_type": "display_data",
          "data": {
            "text/plain": [
              "<Figure size 1440x1080 with 16 Axes>"
            ],
            "image/png": "[encoded data removed]"
          },
          "metadata": {
            "needs_background": "light"
          }
        }
      ]
    },
    {
      "cell_type": "code",
      "source": [
        "#LOGISTIC REGRESSION - CLASSIFICATION TECHNIQUE(SUPERVISED LEARNING)"
      ],
      "metadata": {
        "id": "VVUZDHAS3MTm"
      },
      "execution_count": 20,
      "outputs": []
    },
    {
      "cell_type": "code",
      "source": [
        "#divide the data into i/p and o/p"
      ],
      "metadata": {
        "id": "vk-61aaC8c-t"
      },
      "execution_count": 21,
      "outputs": []
    },
    {
      "cell_type": "code",
      "source": [
        "#df['price'],df['location']=df['location'],df['price']\n",
        "#df.rename(columns={'location':'price','price':'location'},inplace = True)"
      ],
      "metadata": {
        "id": "8T-qrFqfHDaR"
      },
      "execution_count": 22,
      "outputs": []
    },
    {
      "cell_type": "code",
      "source": [
        "#df['description'],df['area']=df['area'],df['description']\n",
        "#df.rename(columns={'area':'description','description':'area'},inplace = True)\n"
      ],
      "metadata": {
        "id": "iTQM7HzHhlJb"
      },
      "execution_count": 23,
      "outputs": []
    },
    {
      "cell_type": "code",
      "source": [
        "#df['facing'],df['area']=df['area'],df['facing']\n",
        "#df.rename(columns={'area':'facing','facing':'area'},inplace = True)\n"
      ],
      "metadata": {
        "id": "Vpv7OSlLi-bP"
      },
      "execution_count": 24,
      "outputs": []
    },
    {
      "cell_type": "code",
      "source": [
        "x = df.iloc[:,1:2].values\n"
      ],
      "metadata": {
        "id": "l99B7JSNJuVL"
      },
      "execution_count": null,
      "outputs": []
    },
    {
      "cell_type": "code",
      "source": [
        "y = df.iloc[:,2].values\n"
      ],
      "metadata": {
        "colab": {
          "base_uri": "https://localhost:8080/"
        },
        "id": "akGvQEXzLMfS",
        "outputId": "b8df97b1-159d-4abb-d2e4-fd8874f5c917"
      },
      "execution_count": 26,
      "outputs": [
        {
          "output_type": "execute_result",
          "data": {
            "text/plain": [
              "array([2850000, 3600000, 3690000, ..., 5800000, 4900000, 2590000])"
            ]
          },
          "metadata": {},
          "execution_count": 26
        }
      ]
    },
    {
      "cell_type": "code",
      "source": [
        "from sklearn.model_selection import train_test_split\n",
        "x_train,x_test,y_train,y_test = train_test_split(x,y,random_state = 0)\n"
      ],
      "metadata": {
        "id": "Lu_gK5DppMxq"
      },
      "execution_count": 27,
      "outputs": []
    },
    {
      "cell_type": "code",
      "source": [
        "from sklearn.preprocessing import MinMaxScaler\n",
        "scaler = MinMaxScaler()\n",
        "x_train = scaler.fit_transform(x_train)\n",
        "x_test = scaler.fit_transform(x_test)"
      ],
      "metadata": {
        "id": "bEgcwqIRqIjP"
      },
      "execution_count": 28,
      "outputs": []
    },
    {
      "cell_type": "code",
      "source": [
        "from sklearn.linear_model import LinearRegression\n",
        "model = LinearRegression()"
      ],
      "metadata": {
        "id": "stuC5ePrnd8_"
      },
      "execution_count": 29,
      "outputs": []
    },
    {
      "cell_type": "code",
      "source": [
        "model.fit(x_train,y_train)"
      ],
      "metadata": {
        "colab": {
          "base_uri": "https://localhost:8080/",
          "height": 74
        },
        "id": "l9ODK1nyn9cT",
        "outputId": "3358f379-0375-41a5-bdf9-e34a5d8eeff4"
      },
      "execution_count": 30,
      "outputs": [
        {
          "output_type": "execute_result",
          "data": {
            "text/plain": [
              "LinearRegression()"
            ],
            "text/html": [
              "<style>#sk-container-id-1 {color: black;background-color: white;}#sk-container-id-1 pre{padding: 0;}#sk-container-id-1 div.sk-toggleable {background-color: white;}#sk-container-id-1 label.sk-toggleable__label {cursor: pointer;display: block;width: 100%;margin-bottom: 0;padding: 0.3em;box-sizing: border-box;text-align: center;}#sk-container-id-1 label.sk-toggleable__label-arrow:before {content: \"▸\";float: left;margin-right: 0.25em;color: #696969;}#sk-container-id-1 label.sk-toggleable__label-arrow:hover:before {color: black;}#sk-container-id-1 div.sk-estimator:hover label.sk-toggleable__label-arrow:before {color: black;}#sk-container-id-1 div.sk-toggleable__content {max-height: 0;max-width: 0;overflow: hidden;text-align: left;background-color: #f0f8ff;}#sk-container-id-1 div.sk-toggleable__content pre {margin: 0.2em;color: black;border-radius: 0.25em;background-color: #f0f8ff;}#sk-container-id-1 input.sk-toggleable__control:checked~div.sk-toggleable__content {max-height: 200px;max-width: 100%;overflow: auto;}#sk-container-id-1 input.sk-toggleable__control:checked~label.sk-toggleable__label-arrow:before {content: \"▾\";}#sk-container-id-1 div.sk-estimator input.sk-toggleable__control:checked~label.sk-toggleable__label {background-color: #d4ebff;}#sk-container-id-1 div.sk-label input.sk-toggleable__control:checked~label.sk-toggleable__label {background-color: #d4ebff;}#sk-container-id-1 input.sk-hidden--visually {border: 0;clip: rect(1px 1px 1px 1px);clip: rect(1px, 1px, 1px, 1px);height: 1px;margin: -1px;overflow: hidden;padding: 0;position: absolute;width: 1px;}#sk-container-id-1 div.sk-estimator {font-family: monospace;background-color: #f0f8ff;border: 1px dotted black;border-radius: 0.25em;box-sizing: border-box;margin-bottom: 0.5em;}#sk-container-id-1 div.sk-estimator:hover {background-color: #d4ebff;}#sk-container-id-1 div.sk-parallel-item::after {content: \"\";width: 100%;border-bottom: 1px solid gray;flex-grow: 1;}#sk-container-id-1 div.sk-label:hover label.sk-toggleable__label {background-color: #d4ebff;}#sk-container-id-1 div.sk-serial::before {content: \"\";position: absolute;border-left: 1px solid gray;box-sizing: border-box;top: 0;bottom: 0;left: 50%;z-index: 0;}#sk-container-id-1 div.sk-serial {display: flex;flex-direction: column;align-items: center;background-color: white;padding-right: 0.2em;padding-left: 0.2em;position: relative;}#sk-container-id-1 div.sk-item {position: relative;z-index: 1;}#sk-container-id-1 div.sk-parallel {display: flex;align-items: stretch;justify-content: center;background-color: white;position: relative;}#sk-container-id-1 div.sk-item::before, #sk-container-id-1 div.sk-parallel-item::before {content: \"\";position: absolute;border-left: 1px solid gray;box-sizing: border-box;top: 0;bottom: 0;left: 50%;z-index: -1;}#sk-container-id-1 div.sk-parallel-item {display: flex;flex-direction: column;z-index: 1;position: relative;background-color: white;}#sk-container-id-1 div.sk-parallel-item:first-child::after {align-self: flex-end;width: 50%;}#sk-container-id-1 div.sk-parallel-item:last-child::after {align-self: flex-start;width: 50%;}#sk-container-id-1 div.sk-parallel-item:only-child::after {width: 0;}#sk-container-id-1 div.sk-dashed-wrapped {border: 1px dashed gray;margin: 0 0.4em 0.5em 0.4em;box-sizing: border-box;padding-bottom: 0.4em;background-color: white;}#sk-container-id-1 div.sk-label label {font-family: monospace;font-weight: bold;display: inline-block;line-height: 1.2em;}#sk-container-id-1 div.sk-label-container {text-align: center;}#sk-container-id-1 div.sk-container {/* jupyter's `normalize.less` sets `[hidden] { display: none; }` but bootstrap.min.css set `[hidden] { display: none !important; }` so we also need the `!important` here to be able to override the default hidden behavior on the sphinx rendered scikit-learn.org. See: https://github.com/scikit-learn/scikit-learn/issues/21755 */display: inline-block !important;position: relative;}#sk-container-id-1 div.sk-text-repr-fallback {display: none;}</style><div id=\"sk-container-id-1\" class=\"sk-top-container\"><div class=\"sk-text-repr-fallback\"><pre>LinearRegression()</pre><b>In a Jupyter environment, please rerun this cell to show the HTML representation or trust the notebook. <br />On GitHub, the HTML representation is unable to render, please try loading this page with nbviewer.org.</b></div><div class=\"sk-container\" hidden><div class=\"sk-item\"><div class=\"sk-estimator sk-toggleable\"><input class=\"sk-toggleable__control sk-hidden--visually\" id=\"sk-estimator-id-1\" type=\"checkbox\" checked><label for=\"sk-estimator-id-1\" class=\"sk-toggleable__label sk-toggleable__label-arrow\">LinearRegression</label><div class=\"sk-toggleable__content\"><pre>LinearRegression()</pre></div></div></div></div></div>"
            ]
          },
          "metadata": {},
          "execution_count": 30
        }
      ]
    },
    {
      "cell_type": "code",
      "source": [
        "y_pred = model.predict(x_test)"
      ],
      "metadata": {
        "id": "518SfxChn-NO"
      },
      "execution_count": 31,
      "outputs": []
    },
    {
      "cell_type": "code",
      "source": [
        "y_test"
      ],
      "metadata": {
        "id": "1bJWrmO4qzOu"
      },
      "execution_count": null,
      "outputs": []
    }
  ]
}